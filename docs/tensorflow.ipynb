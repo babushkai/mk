{
 "cells": [
  {
   "attachments": {},
   "cell_type": "markdown",
   "id": "b964c306",
   "metadata": {},
   "source": [
    "[![Binder](https://mybinder.org/badge_logo.svg)](https://mybinder.org/v2/git/https%3A%2F%2Fgithub.com%2Fkwdaisuke%2FGCP_ML%2Fblob%2Fmain%2FAutoMLframework.ipynb/HEAD)"
   ]
  },
  {
   "cell_type": "code",
   "execution_count": null,
   "id": "b654f447",
   "metadata": {},
   "outputs": [],
   "source": [
    "import numpy as np\n",
    "import pandas as pd\n",
    "\n",
    "import tensorflow as tf\n",
    "from tensorflow.keras import layers\n",
    "\n",
    "from sklearn.datasets import load_iris\n",
    "from joblib import dump, load\n",
    "\n",
    "X, y= load_iris(return_X_y = True)\n",
    "#y = pd.get_dummies(y).values"
   ]
  },
  {
   "cell_type": "code",
   "execution_count": 69,
   "id": "4ed4e57e-5860-4eaf-8b49-067ace924b91",
   "metadata": {},
   "outputs": [
    {
     "data": {
      "text/plain": [
       "'2.6.2'"
      ]
     },
     "execution_count": 69,
     "metadata": {},
     "output_type": "execute_result"
    }
   ],
   "source": [
    "tf.__version__"
   ]
  },
  {
   "cell_type": "code",
   "execution_count": 39,
   "id": "97b7a7bf-cb0d-4598-adf1-152fc3742acc",
   "metadata": {
    "collapsed": true,
    "jupyter": {
     "outputs_hidden": true
    },
    "tags": []
   },
   "outputs": [
    {
     "name": "stdout",
     "output_type": "stream",
     "text": [
      "Epoch 1/100\n",
      "5/5 [==============================] - 0s 9ms/step - loss: 1.0699 - accuracy: 0.6133\n",
      "Epoch 2/100\n",
      "5/5 [==============================] - 0s 5ms/step - loss: 0.8760 - accuracy: 0.6667\n",
      "Epoch 3/100\n",
      "5/5 [==============================] - 0s 5ms/step - loss: 0.7792 - accuracy: 0.6667\n",
      "Epoch 4/100\n",
      "5/5 [==============================] - 0s 5ms/step - loss: 0.6883 - accuracy: 0.6667\n",
      "Epoch 5/100\n",
      "5/5 [==============================] - 0s 4ms/step - loss: 0.6151 - accuracy: 0.7800\n",
      "Epoch 6/100\n",
      "5/5 [==============================] - 0s 4ms/step - loss: 0.5609 - accuracy: 0.9533\n",
      "Epoch 7/100\n",
      "5/5 [==============================] - 0s 4ms/step - loss: 0.5136 - accuracy: 0.8467\n",
      "Epoch 8/100\n",
      "5/5 [==============================] - 0s 4ms/step - loss: 0.4736 - accuracy: 0.8600\n",
      "Epoch 9/100\n",
      "5/5 [==============================] - 0s 4ms/step - loss: 0.4444 - accuracy: 0.9600\n",
      "Epoch 10/100\n",
      "5/5 [==============================] - 0s 5ms/step - loss: 0.4126 - accuracy: 0.9533\n",
      "Epoch 11/100\n",
      "5/5 [==============================] - 0s 5ms/step - loss: 0.3895 - accuracy: 0.9067\n",
      "Epoch 12/100\n",
      "5/5 [==============================] - 0s 5ms/step - loss: 0.3665 - accuracy: 0.9667\n",
      "Epoch 13/100\n",
      "5/5 [==============================] - 0s 5ms/step - loss: 0.3467 - accuracy: 0.9667\n",
      "Epoch 14/100\n",
      "5/5 [==============================] - 0s 6ms/step - loss: 0.3246 - accuracy: 0.9733\n",
      "Epoch 15/100\n",
      "5/5 [==============================] - 0s 4ms/step - loss: 0.3074 - accuracy: 0.9733\n",
      "Epoch 16/100\n",
      "5/5 [==============================] - 0s 3ms/step - loss: 0.2916 - accuracy: 0.9600\n",
      "Epoch 17/100\n",
      "5/5 [==============================] - 0s 4ms/step - loss: 0.2753 - accuracy: 0.9667\n",
      "Epoch 18/100\n",
      "5/5 [==============================] - 0s 4ms/step - loss: 0.2574 - accuracy: 0.9667\n",
      "Epoch 19/100\n",
      "5/5 [==============================] - 0s 4ms/step - loss: 0.2538 - accuracy: 0.9400\n",
      "Epoch 20/100\n",
      "5/5 [==============================] - 0s 6ms/step - loss: 0.2451 - accuracy: 0.9333\n",
      "Epoch 21/100\n",
      "5/5 [==============================] - 0s 4ms/step - loss: 0.2235 - accuracy: 0.9667\n",
      "Epoch 22/100\n",
      "5/5 [==============================] - 0s 5ms/step - loss: 0.2132 - accuracy: 0.9667\n",
      "Epoch 23/100\n",
      "5/5 [==============================] - 0s 5ms/step - loss: 0.2128 - accuracy: 0.9467\n",
      "Epoch 24/100\n",
      "5/5 [==============================] - 0s 5ms/step - loss: 0.2147 - accuracy: 0.9333\n",
      "Epoch 25/100\n",
      "5/5 [==============================] - 0s 5ms/step - loss: 0.1784 - accuracy: 0.9667\n",
      "Epoch 26/100\n",
      "5/5 [==============================] - 0s 5ms/step - loss: 0.1906 - accuracy: 0.9400\n",
      "Epoch 27/100\n",
      "5/5 [==============================] - 0s 11ms/step - loss: 0.1728 - accuracy: 0.9667\n",
      "Epoch 28/100\n",
      "5/5 [==============================] - 0s 5ms/step - loss: 0.1647 - accuracy: 0.9733\n",
      "Epoch 29/100\n",
      "5/5 [==============================] - 0s 5ms/step - loss: 0.1582 - accuracy: 0.9667\n",
      "Epoch 30/100\n",
      "5/5 [==============================] - 0s 6ms/step - loss: 0.1575 - accuracy: 0.9667\n",
      "Epoch 31/100\n",
      "5/5 [==============================] - 0s 6ms/step - loss: 0.1402 - accuracy: 0.9733\n",
      "Epoch 32/100\n",
      "5/5 [==============================] - 0s 4ms/step - loss: 0.1423 - accuracy: 0.9667\n",
      "Epoch 33/100\n",
      "5/5 [==============================] - 0s 4ms/step - loss: 0.1454 - accuracy: 0.9667\n",
      "Epoch 34/100\n",
      "5/5 [==============================] - 0s 5ms/step - loss: 0.1283 - accuracy: 0.9800\n",
      "Epoch 35/100\n",
      "5/5 [==============================] - 0s 4ms/step - loss: 0.1305 - accuracy: 0.9733\n",
      "Epoch 36/100\n",
      "5/5 [==============================] - 0s 4ms/step - loss: 0.1234 - accuracy: 0.9733\n",
      "Epoch 37/100\n",
      "5/5 [==============================] - 0s 4ms/step - loss: 0.1183 - accuracy: 0.9867\n",
      "Epoch 38/100\n",
      "5/5 [==============================] - 0s 4ms/step - loss: 0.1180 - accuracy: 0.9667\n",
      "Epoch 39/100\n",
      "5/5 [==============================] - 0s 4ms/step - loss: 0.1090 - accuracy: 0.9800\n",
      "Epoch 40/100\n",
      "5/5 [==============================] - 0s 4ms/step - loss: 0.1114 - accuracy: 0.9733\n",
      "Epoch 41/100\n",
      "5/5 [==============================] - 0s 3ms/step - loss: 0.1068 - accuracy: 0.9800\n",
      "Epoch 42/100\n",
      "5/5 [==============================] - 0s 3ms/step - loss: 0.1028 - accuracy: 0.9867\n",
      "Epoch 43/100\n",
      "5/5 [==============================] - 0s 5ms/step - loss: 0.1051 - accuracy: 0.9733\n",
      "Epoch 44/100\n",
      "5/5 [==============================] - 0s 5ms/step - loss: 0.1000 - accuracy: 0.9800\n",
      "Epoch 45/100\n",
      "5/5 [==============================] - 0s 5ms/step - loss: 0.0977 - accuracy: 0.9800\n",
      "Epoch 46/100\n",
      "5/5 [==============================] - 0s 7ms/step - loss: 0.0976 - accuracy: 0.9733\n",
      "Epoch 47/100\n",
      "5/5 [==============================] - 0s 5ms/step - loss: 0.0971 - accuracy: 0.9733\n",
      "Epoch 48/100\n",
      "5/5 [==============================] - 0s 4ms/step - loss: 0.0953 - accuracy: 0.9800\n",
      "Epoch 49/100\n",
      "5/5 [==============================] - 0s 4ms/step - loss: 0.0906 - accuracy: 0.9800\n",
      "Epoch 50/100\n",
      "5/5 [==============================] - 0s 4ms/step - loss: 0.0923 - accuracy: 0.9733\n",
      "Epoch 51/100\n",
      "5/5 [==============================] - 0s 4ms/step - loss: 0.0884 - accuracy: 0.9867\n",
      "Epoch 52/100\n",
      "5/5 [==============================] - 0s 4ms/step - loss: 0.0879 - accuracy: 0.9800\n",
      "Epoch 53/100\n",
      "5/5 [==============================] - 0s 4ms/step - loss: 0.0850 - accuracy: 0.9800\n",
      "Epoch 54/100\n",
      "5/5 [==============================] - 0s 3ms/step - loss: 0.0880 - accuracy: 0.9800\n",
      "Epoch 55/100\n",
      "5/5 [==============================] - 0s 4ms/step - loss: 0.0827 - accuracy: 0.9867\n",
      "Epoch 56/100\n",
      "5/5 [==============================] - 0s 4ms/step - loss: 0.0860 - accuracy: 0.9800\n",
      "Epoch 57/100\n",
      "5/5 [==============================] - 0s 5ms/step - loss: 0.0869 - accuracy: 0.9733\n",
      "Epoch 58/100\n",
      "5/5 [==============================] - 0s 5ms/step - loss: 0.0861 - accuracy: 0.9733\n",
      "Epoch 59/100\n",
      "5/5 [==============================] - 0s 5ms/step - loss: 0.0834 - accuracy: 0.9800\n",
      "Epoch 60/100\n",
      "5/5 [==============================] - 0s 5ms/step - loss: 0.0810 - accuracy: 0.9800\n",
      "Epoch 61/100\n",
      "5/5 [==============================] - 0s 4ms/step - loss: 0.0794 - accuracy: 0.9800\n",
      "Epoch 62/100\n",
      "5/5 [==============================] - 0s 4ms/step - loss: 0.0775 - accuracy: 0.9800\n",
      "Epoch 63/100\n",
      "5/5 [==============================] - 0s 4ms/step - loss: 0.0770 - accuracy: 0.9867\n",
      "Epoch 64/100\n",
      "5/5 [==============================] - 0s 4ms/step - loss: 0.0779 - accuracy: 0.9800\n",
      "Epoch 65/100\n",
      "5/5 [==============================] - 0s 4ms/step - loss: 0.0773 - accuracy: 0.9800\n",
      "Epoch 66/100\n",
      "5/5 [==============================] - 0s 6ms/step - loss: 0.0742 - accuracy: 0.9867\n",
      "Epoch 67/100\n",
      "5/5 [==============================] - 0s 6ms/step - loss: 0.0747 - accuracy: 0.9733\n",
      "Epoch 68/100\n",
      "5/5 [==============================] - 0s 6ms/step - loss: 0.0735 - accuracy: 0.9800\n",
      "Epoch 69/100\n",
      "5/5 [==============================] - 0s 5ms/step - loss: 0.0729 - accuracy: 0.9867\n",
      "Epoch 70/100\n",
      "5/5 [==============================] - 0s 4ms/step - loss: 0.0738 - accuracy: 0.9800\n",
      "Epoch 71/100\n",
      "5/5 [==============================] - 0s 4ms/step - loss: 0.0753 - accuracy: 0.9800\n",
      "Epoch 72/100\n",
      "5/5 [==============================] - 0s 4ms/step - loss: 0.0713 - accuracy: 0.9800\n",
      "Epoch 73/100\n",
      "5/5 [==============================] - 0s 4ms/step - loss: 0.0761 - accuracy: 0.9733\n",
      "Epoch 74/100\n",
      "5/5 [==============================] - 0s 4ms/step - loss: 0.0718 - accuracy: 0.9800\n",
      "Epoch 75/100\n",
      "5/5 [==============================] - 0s 4ms/step - loss: 0.0736 - accuracy: 0.9733\n",
      "Epoch 76/100\n",
      "5/5 [==============================] - 0s 4ms/step - loss: 0.0756 - accuracy: 0.9800\n",
      "Epoch 77/100\n",
      "5/5 [==============================] - 0s 4ms/step - loss: 0.0706 - accuracy: 0.9800\n",
      "Epoch 78/100\n",
      "5/5 [==============================] - 0s 3ms/step - loss: 0.0748 - accuracy: 0.9800\n",
      "Epoch 79/100\n",
      "5/5 [==============================] - 0s 4ms/step - loss: 0.0697 - accuracy: 0.9800\n",
      "Epoch 80/100\n",
      "5/5 [==============================] - 0s 4ms/step - loss: 0.0695 - accuracy: 0.9800\n",
      "Epoch 81/100\n",
      "5/5 [==============================] - 0s 4ms/step - loss: 0.0718 - accuracy: 0.9733\n",
      "Epoch 82/100\n",
      "5/5 [==============================] - 0s 4ms/step - loss: 0.0750 - accuracy: 0.9800\n",
      "Epoch 83/100\n",
      "5/5 [==============================] - 0s 4ms/step - loss: 0.0642 - accuracy: 0.9800\n",
      "Epoch 84/100\n",
      "5/5 [==============================] - 0s 4ms/step - loss: 0.0788 - accuracy: 0.9667\n",
      "Epoch 85/100\n",
      "5/5 [==============================] - 0s 4ms/step - loss: 0.0755 - accuracy: 0.9733\n",
      "Epoch 86/100\n",
      "5/5 [==============================] - 0s 7ms/step - loss: 0.0700 - accuracy: 0.9800\n",
      "Epoch 87/100\n",
      "5/5 [==============================] - 0s 8ms/step - loss: 0.0762 - accuracy: 0.9667\n",
      "Epoch 88/100\n",
      "5/5 [==============================] - 0s 6ms/step - loss: 0.0738 - accuracy: 0.9733\n",
      "Epoch 89/100\n",
      "5/5 [==============================] - 0s 4ms/step - loss: 0.0738 - accuracy: 0.9600\n",
      "Epoch 90/100\n",
      "5/5 [==============================] - 0s 4ms/step - loss: 0.0706 - accuracy: 0.9800\n",
      "Epoch 91/100\n",
      "5/5 [==============================] - 0s 6ms/step - loss: 0.0633 - accuracy: 0.9800\n",
      "Epoch 92/100\n",
      "5/5 [==============================] - 0s 4ms/step - loss: 0.0656 - accuracy: 0.9800\n",
      "Epoch 93/100\n",
      "5/5 [==============================] - 0s 4ms/step - loss: 0.0801 - accuracy: 0.9600\n",
      "Epoch 94/100\n",
      "5/5 [==============================] - 0s 4ms/step - loss: 0.0799 - accuracy: 0.9667\n",
      "Epoch 95/100\n",
      "5/5 [==============================] - 0s 4ms/step - loss: 0.0727 - accuracy: 0.9667\n",
      "Epoch 96/100\n",
      "5/5 [==============================] - 0s 4ms/step - loss: 0.0657 - accuracy: 0.9800\n",
      "Epoch 97/100\n",
      "5/5 [==============================] - 0s 4ms/step - loss: 0.0678 - accuracy: 0.9800\n",
      "Epoch 98/100\n",
      "5/5 [==============================] - 0s 3ms/step - loss: 0.0628 - accuracy: 0.9733\n",
      "Epoch 99/100\n",
      "5/5 [==============================] - 0s 4ms/step - loss: 0.0708 - accuracy: 0.9733\n",
      "Epoch 100/100\n",
      "5/5 [==============================] - 0s 4ms/step - loss: 0.0705 - accuracy: 0.9733\n"
     ]
    },
    {
     "data": {
      "text/plain": [
       "<keras.callbacks.History at 0x7f712826c750>"
      ]
     },
     "execution_count": 39,
     "metadata": {},
     "output_type": "execute_result"
    }
   ],
   "source": [
    "model = tf.keras.Sequential([\n",
    "  layers.Dense(128, activation='relu'),\n",
    "  layers.Dense(64, activation='relu'),\n",
    "  layers.Dense(3),\n",
    "  layers.Activation('softmax')\n",
    "])\n",
    "\n",
    "model.compile(optimizer='adam',\n",
    "              # multi-class classifiction, y is integer\n",
    "              loss=tf.keras.losses.SparseCategoricalCrossentropy(from_logits=False),\n",
    "              metrics=['accuracy'])\n",
    "\n",
    "model.fit(X, y, epochs=100)"
   ]
  },
  {
   "cell_type": "code",
   "execution_count": 58,
   "id": "b31264fa-fbd3-4a4d-8268-96d04e9c5fd5",
   "metadata": {},
   "outputs": [
    {
     "name": "stderr",
     "output_type": "stream",
     "text": [
      "2022-01-29 01:07:28.094857: W tensorflow/python/util/util.cc:348] Sets are not currently considered sequences, but this may change in the future, so consider avoiding using them.\n"
     ]
    },
    {
     "name": "stdout",
     "output_type": "stream",
     "text": [
      "INFO:tensorflow:Assets written to: model/assets\n"
     ]
    }
   ],
   "source": [
    "model.save('model')"
   ]
  },
  {
   "cell_type": "code",
   "execution_count": 70,
   "id": "0b8db71d-225b-4b23-b11e-8428b025b560",
   "metadata": {},
   "outputs": [
    {
     "name": "stdout",
     "output_type": "stream",
     "text": [
      "Removing gs://classifier_nn_bucket/model/keras_metadata.pb#1643418571674576...\n",
      "Removing gs://classifier_nn_bucket/model/saved_model.pb#1643418571786178...     \n",
      "Removing gs://classifier_nn_bucket/model/variables/variables.data-00000-of-00001#1643418571956187...\n",
      "Removing gs://classifier_nn_bucket/model/variables/variables.index#1643418571861744...\n",
      "/ [4 objects]                                                                   \n",
      "Operation completed over 4 objects.                                              \n",
      "Removing gs://classifier_nn_bucket/...\n"
     ]
    }
   ],
   "source": [
    "!gsutil rm -r gs://classifier_nn_bucket"
   ]
  },
  {
   "cell_type": "code",
   "execution_count": 71,
   "id": "4d42d84a-4695-49ea-aeb1-cd3dd9229a6a",
   "metadata": {},
   "outputs": [
    {
     "name": "stdout",
     "output_type": "stream",
     "text": [
      "Creating gs://classifier_nn_bucket/...\n"
     ]
    }
   ],
   "source": [
    "!gsutil mb -l us-central1 \"gs://classifier_nn_bucket\""
   ]
  },
  {
   "cell_type": "code",
   "execution_count": 72,
   "id": "1d3ca9a7-8657-4f7d-84dd-5e28ddf9fa36",
   "metadata": {},
   "outputs": [
    {
     "name": "stdout",
     "output_type": "stream",
     "text": [
      "Copying file://model/saved_model.pb [Content-Type=application/octet-stream]...\n",
      "/ [1 files][ 92.4 KiB/ 92.4 KiB]                                                \n",
      "Operation completed over 1 objects/92.4 KiB.                                     \n"
     ]
    }
   ],
   "source": [
    "!gsutil cp -r model/saved_model.pb gs://classifier_nn_bucket"
   ]
  },
  {
   "cell_type": "code",
   "execution_count": null,
   "id": "d31c75e8-f3ea-4953-a7b3-e5b61ab130c7",
   "metadata": {},
   "outputs": [],
   "source": []
  }
 ],
 "metadata": {
  "environment": {
   "kernel": "python3",
   "name": "tf2-gpu.2-6.m87",
   "type": "gcloud",
   "uri": "gcr.io/deeplearning-platform-release/tf2-gpu.2-6:m87"
  },
  "kernelspec": {
   "display_name": "Python 3",
   "language": "python",
   "name": "python3"
  },
  "language_info": {
   "codemirror_mode": {
    "name": "ipython",
    "version": 3
   },
   "file_extension": ".py",
   "mimetype": "text/x-python",
   "name": "python",
   "nbconvert_exporter": "python",
   "pygments_lexer": "ipython3",
   "version": "3.7.12"
  }
 },
 "nbformat": 4,
 "nbformat_minor": 5
}
